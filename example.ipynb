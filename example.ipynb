{
 "cells": [
  {
   "cell_type": "code",
   "execution_count": 1,
   "metadata": {
    "collapsed": false
   },
   "outputs": [],
   "source": [
    "import historical_prices_and_dividends\n",
    "import datetime\n",
    "\n"
   ]
  },
  {
   "cell_type": "code",
   "execution_count": 2,
   "metadata": {
    "collapsed": false
   },
   "outputs": [
    {
     "data": {
      "text/html": [
       "<div>\n",
       "<table border=\"1\" class=\"dataframe\">\n",
       "  <thead>\n",
       "    <tr style=\"text-align: right;\">\n",
       "      <th></th>\n",
       "      <th>adjclose</th>\n",
       "      <th>close</th>\n",
       "      <th>date</th>\n",
       "      <th>high</th>\n",
       "      <th>low</th>\n",
       "      <th>open</th>\n",
       "      <th>volume</th>\n",
       "    </tr>\n",
       "  </thead>\n",
       "  <tbody>\n",
       "    <tr>\n",
       "      <th>0</th>\n",
       "      <td>154.490005</td>\n",
       "      <td>154.490005</td>\n",
       "      <td>2018-03-02</td>\n",
       "      <td>154.759995</td>\n",
       "      <td>151.880005</td>\n",
       "      <td>152.789993</td>\n",
       "      <td>3261141</td>\n",
       "    </tr>\n",
       "    <tr>\n",
       "      <th>1</th>\n",
       "      <td>153.809998</td>\n",
       "      <td>153.809998</td>\n",
       "      <td>2018-03-01</td>\n",
       "      <td>156.970001</td>\n",
       "      <td>152.789993</td>\n",
       "      <td>155.529999</td>\n",
       "      <td>4013200</td>\n",
       "    </tr>\n",
       "    <tr>\n",
       "      <th>2</th>\n",
       "      <td>155.830002</td>\n",
       "      <td>155.830002</td>\n",
       "      <td>2018-02-28</td>\n",
       "      <td>158.139999</td>\n",
       "      <td>155.800003</td>\n",
       "      <td>157.500000</td>\n",
       "      <td>3803500</td>\n",
       "    </tr>\n",
       "    <tr>\n",
       "      <th>3</th>\n",
       "      <td>156.550003</td>\n",
       "      <td>156.550003</td>\n",
       "      <td>2018-02-27</td>\n",
       "      <td>159.779999</td>\n",
       "      <td>156.529999</td>\n",
       "      <td>158.460007</td>\n",
       "      <td>4237300</td>\n",
       "    </tr>\n",
       "    <tr>\n",
       "      <th>4</th>\n",
       "      <td>158.580002</td>\n",
       "      <td>158.580002</td>\n",
       "      <td>2018-02-26</td>\n",
       "      <td>158.880005</td>\n",
       "      <td>155.509995</td>\n",
       "      <td>155.809998</td>\n",
       "      <td>3610300</td>\n",
       "    </tr>\n",
       "  </tbody>\n",
       "</table>\n",
       "</div>"
      ],
      "text/plain": [
       "     adjclose       close       date        high         low        open  \\\n",
       "0  154.490005  154.490005 2018-03-02  154.759995  151.880005  152.789993   \n",
       "1  153.809998  153.809998 2018-03-01  156.970001  152.789993  155.529999   \n",
       "2  155.830002  155.830002 2018-02-28  158.139999  155.800003  157.500000   \n",
       "3  156.550003  156.550003 2018-02-27  159.779999  156.529999  158.460007   \n",
       "4  158.580002  158.580002 2018-02-26  158.880005  155.509995  155.809998   \n",
       "\n",
       "    volume  \n",
       "0  3261141  \n",
       "1  4013200  \n",
       "2  3803500  \n",
       "3  4237300  \n",
       "4  3610300  "
      ]
     },
     "execution_count": 2,
     "metadata": {},
     "output_type": "execute_result"
    }
   ],
   "source": [
    "# Get IBM's stock prices for 2017/1/1 - current date\n",
    "df_stocks = historical_prices_and_dividends.get_historical_prices(ticker=\"IBM\",\n",
    "                                                                 start_date=datetime.datetime(2017,1,1),\n",
    "                                                                 end_date=datetime.datetime.now())\n",
    "\n",
    "df_stocks.head()"
   ]
  },
  {
   "cell_type": "code",
   "execution_count": 3,
   "metadata": {
    "collapsed": false
   },
   "outputs": [
    {
     "data": {
      "text/html": [
       "<div>\n",
       "<table border=\"1\" class=\"dataframe\">\n",
       "  <thead>\n",
       "    <tr style=\"text-align: right;\">\n",
       "      <th></th>\n",
       "      <th>amount</th>\n",
       "      <th>date</th>\n",
       "      <th>type</th>\n",
       "    </tr>\n",
       "  </thead>\n",
       "  <tbody>\n",
       "    <tr>\n",
       "      <th>0</th>\n",
       "      <td>1.5</td>\n",
       "      <td>2018-02-08</td>\n",
       "      <td>DIVIDEND</td>\n",
       "    </tr>\n",
       "    <tr>\n",
       "      <th>1</th>\n",
       "      <td>1.5</td>\n",
       "      <td>2017-11-09</td>\n",
       "      <td>DIVIDEND</td>\n",
       "    </tr>\n",
       "    <tr>\n",
       "      <th>2</th>\n",
       "      <td>1.5</td>\n",
       "      <td>2017-08-08</td>\n",
       "      <td>DIVIDEND</td>\n",
       "    </tr>\n",
       "    <tr>\n",
       "      <th>3</th>\n",
       "      <td>1.5</td>\n",
       "      <td>2017-05-08</td>\n",
       "      <td>DIVIDEND</td>\n",
       "    </tr>\n",
       "    <tr>\n",
       "      <th>4</th>\n",
       "      <td>1.4</td>\n",
       "      <td>2017-02-08</td>\n",
       "      <td>DIVIDEND</td>\n",
       "    </tr>\n",
       "  </tbody>\n",
       "</table>\n",
       "</div>"
      ],
      "text/plain": [
       "   amount       date      type\n",
       "0     1.5 2018-02-08  DIVIDEND\n",
       "1     1.5 2017-11-09  DIVIDEND\n",
       "2     1.5 2017-08-08  DIVIDEND\n",
       "3     1.5 2017-05-08  DIVIDEND\n",
       "4     1.4 2017-02-08  DIVIDEND"
      ]
     },
     "execution_count": 3,
     "metadata": {},
     "output_type": "execute_result"
    }
   ],
   "source": [
    "# Get IBM's dividends  for 2017/1/1 - current date\n",
    "df_dividends = historical_prices_and_dividends.get_historical_dividends(ticker=\"IBM\",\n",
    "                                                                 start_date=datetime.datetime(2017,1,1),\n",
    "                                                                 end_date=datetime.datetime.now())\n",
    "\n",
    "df_dividends.head()"
   ]
  },
  {
   "cell_type": "code",
   "execution_count": null,
   "metadata": {
    "collapsed": true
   },
   "outputs": [],
   "source": []
  }
 ],
 "metadata": {
  "kernelspec": {
   "display_name": "Python 2",
   "language": "python",
   "name": "python2"
  },
  "language_info": {
   "codemirror_mode": {
    "name": "ipython",
    "version": 2
   },
   "file_extension": ".py",
   "mimetype": "text/x-python",
   "name": "python",
   "nbconvert_exporter": "python",
   "pygments_lexer": "ipython2",
   "version": "2.7.10"
  }
 },
 "nbformat": 4,
 "nbformat_minor": 1
}
